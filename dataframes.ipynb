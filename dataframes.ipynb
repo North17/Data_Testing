{
 "metadata": {
  "language_info": {
   "codemirror_mode": {
    "name": "ipython",
    "version": 3
   },
   "file_extension": ".py",
   "mimetype": "text/x-python",
   "name": "python",
   "nbconvert_exporter": "python",
   "pygments_lexer": "ipython3",
   "version": "3.9.0-final"
  },
  "orig_nbformat": 2,
  "kernelspec": {
   "name": "python3",
   "display_name": "Python 3.9.0 64-bit",
   "metadata": {
    "interpreter": {
     "hash": "d0f1a46e1b8bb49f6fe66dfa14ba01e1c4ea6e7377c07a6040c9a42d856a631d"
    }
   }
  }
 },
 "nbformat": 4,
 "nbformat_minor": 2,
 "cells": [
  {
   "cell_type": "code",
   "execution_count": 20,
   "metadata": {},
   "outputs": [
    {
     "output_type": "execute_result",
     "data": {
      "text/plain": [
       "   Time of Infection  Time of reporting  x location  y location  Age  \\\n",
       "0                  0                  6           1          18   30   \n",
       "1                  0                  3           1          18   43   \n",
       "2                  0                  2           1          18   39   \n",
       "3                  0                  7           1          18   51   \n",
       "4                  0                  1           1          18   57   \n",
       "5                  0                  4           1          18   27   \n",
       "6                  0                  1           1          18   45   \n",
       "\n",
       "   Diabetes  Respiratory Illnesses  Abnormal Blood Pressure Outcome  \n",
       "0      True                  False                    False   Alive  \n",
       "1      True                  False                    False   Alive  \n",
       "2     False                  False                    False   Alive  \n",
       "3      True                  False                     True   Alive  \n",
       "4      True                   True                     True   Alive  \n",
       "5      True                  False                    False   Alive  \n",
       "6     False                  False                    False   Alive  "
      ],
      "text/html": "<div>\n<style scoped>\n    .dataframe tbody tr th:only-of-type {\n        vertical-align: middle;\n    }\n\n    .dataframe tbody tr th {\n        vertical-align: top;\n    }\n\n    .dataframe thead th {\n        text-align: right;\n    }\n</style>\n<table border=\"1\" class=\"dataframe\">\n  <thead>\n    <tr style=\"text-align: right;\">\n      <th></th>\n      <th>Time of Infection</th>\n      <th>Time of reporting</th>\n      <th>x location</th>\n      <th>y location</th>\n      <th>Age</th>\n      <th>Diabetes</th>\n      <th>Respiratory Illnesses</th>\n      <th>Abnormal Blood Pressure</th>\n      <th>Outcome</th>\n    </tr>\n  </thead>\n  <tbody>\n    <tr>\n      <th>0</th>\n      <td>0</td>\n      <td>6</td>\n      <td>1</td>\n      <td>18</td>\n      <td>30</td>\n      <td>True</td>\n      <td>False</td>\n      <td>False</td>\n      <td>Alive</td>\n    </tr>\n    <tr>\n      <th>1</th>\n      <td>0</td>\n      <td>3</td>\n      <td>1</td>\n      <td>18</td>\n      <td>43</td>\n      <td>True</td>\n      <td>False</td>\n      <td>False</td>\n      <td>Alive</td>\n    </tr>\n    <tr>\n      <th>2</th>\n      <td>0</td>\n      <td>2</td>\n      <td>1</td>\n      <td>18</td>\n      <td>39</td>\n      <td>False</td>\n      <td>False</td>\n      <td>False</td>\n      <td>Alive</td>\n    </tr>\n    <tr>\n      <th>3</th>\n      <td>0</td>\n      <td>7</td>\n      <td>1</td>\n      <td>18</td>\n      <td>51</td>\n      <td>True</td>\n      <td>False</td>\n      <td>True</td>\n      <td>Alive</td>\n    </tr>\n    <tr>\n      <th>4</th>\n      <td>0</td>\n      <td>1</td>\n      <td>1</td>\n      <td>18</td>\n      <td>57</td>\n      <td>True</td>\n      <td>True</td>\n      <td>True</td>\n      <td>Alive</td>\n    </tr>\n    <tr>\n      <th>5</th>\n      <td>0</td>\n      <td>4</td>\n      <td>1</td>\n      <td>18</td>\n      <td>27</td>\n      <td>True</td>\n      <td>False</td>\n      <td>False</td>\n      <td>Alive</td>\n    </tr>\n    <tr>\n      <th>6</th>\n      <td>0</td>\n      <td>1</td>\n      <td>1</td>\n      <td>18</td>\n      <td>45</td>\n      <td>False</td>\n      <td>False</td>\n      <td>False</td>\n      <td>Alive</td>\n    </tr>\n  </tbody>\n</table>\n</div>"
     },
     "metadata": {},
     "execution_count": 20
    }
   ],
   "source": [
    "import pandas as pd \n",
    "\n",
    "df = pd.read_csv(\"COVID_Dataset.csv\")\n",
    "#df.shape               #returns no. of rows and columns\n",
    "df.head(7)             #returns that many first rows\n",
    "#df.tail()              #same but last\n",
    "#df[2:5]                #slices\n",
    "#df.columns             #returns all column headings\n",
    "#df.Age                 #returns all elements in that column name\n",
    "#type(df)               #dataframe\n",
    "#type(df[\"Age\"])        #series\n",
    "#df[\"Age\"]              #returns 1 column\n",
    "#df[[\"Age\",\"Outcome\"]]  #returns as many columns as in list\n",
    "#df[\"Age\"].max()        #you get it\n",
    "#df.describe()          #gives cool stats\n",
    "#df[df.Age > 50]        #like index, but fo condition\n",
    "list(df.Age)\n"
   ]
  },
  {
   "cell_type": "code",
   "execution_count": null,
   "metadata": {},
   "outputs": [],
   "source": []
  }
 ]
}